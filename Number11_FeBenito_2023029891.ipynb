{
  "nbformat": 4,
  "nbformat_minor": 0,
  "metadata": {
    "colab": {
      "provenance": []
    },
    "kernelspec": {
      "name": "python3",
      "display_name": "Python 3"
    },
    "language_info": {
      "name": "python"
    }
  },
  "cells": [
    {
      "cell_type": "code",
      "execution_count": 4,
      "metadata": {
        "colab": {
          "base_uri": "https://localhost:8080/"
        },
        "id": "7tH1f0RFBXnF",
        "outputId": "4d145d54-c522-467e-f61b-4516a000676f"
      },
      "outputs": [
        {
          "output_type": "stream",
          "name": "stdout",
          "text": [
            "Calculator reset. Screen: 0\n",
            "Simple Calculator\n",
            "Enter +, -, *, or / followed by a number (e.g., +5), 'C' to clear, or 'exit'/'q' to quit.\n",
            "Enter operation: +5\n",
            "Screen: 5.0\n",
            "Enter operation: +10\n",
            "Screen: 15.0\n",
            "Enter operation: -3\n",
            "Screen: 12.0\n",
            "Enter operation: *2\n",
            "Screen: 24.0\n",
            "Enter operation: /6\n",
            "Screen: 4.0\n",
            "Enter operation: C\n",
            "Calculator reset. Screen: 0\n",
            "Enter operation: q\n",
            "Exiting calculator. Goodbye!\n"
          ]
        }
      ],
      "source": [
        "class Calculator:\n",
        "    def __init__(self):\n",
        "        self.current_value = 0\n",
        "        self.reset()\n",
        "\n",
        "    def reset(self):\n",
        "        self.current_value = 0\n",
        "        print(\"Calculator reset. Screen: 0\")\n",
        "\n",
        "    def add(self, value):\n",
        "        self.current_value += value\n",
        "        print(f\"Screen: {self.current_value}\")\n",
        "\n",
        "    def subtract(self, value):\n",
        "        self.current_value -= value\n",
        "        print(f\"Screen: {self.current_value}\")\n",
        "\n",
        "    def multiply(self, value):\n",
        "        self.current_value *= value\n",
        "        print(f\"Screen: {self.current_value}\")\n",
        "\n",
        "    def divide(self, value):\n",
        "        if value == 0:\n",
        "            print(\"Error: Division by zero is undefined.\")\n",
        "        else:\n",
        "            self.current_value /= value\n",
        "            print(f\"Screen: {self.current_value}\")\n",
        "\n",
        "    def process_input(self, input_str):\n",
        "        try:\n",
        "            if input_str == \"C\":\n",
        "                self.reset()\n",
        "            elif input_str.startswith(\"+\"):\n",
        "                self.add(float(input_str[1:]))\n",
        "            elif input_str.startswith(\"-\"):\n",
        "                self.subtract(float(input_str[1:]))\n",
        "            elif input_str.startswith(\"*\"):\n",
        "                self.multiply(float(input_str[1:]))\n",
        "            elif input_str.startswith(\"/\"):\n",
        "                self.divide(float(input_str[1:]))\n",
        "            elif input_str in [\"exit\", \"q\"]:  # Allow exit commands\n",
        "                print(\"Exiting calculator. Goodbye!\")\n",
        "                return False  # Indicate to stop the loop\n",
        "            else:\n",
        "                print(\"Invalid input\")\n",
        "        except ValueError:\n",
        "            print(\"Invalid number entered\")\n",
        "        return True  # Indicate to continue the loop\n",
        "\n",
        "def main():\n",
        "    calculator = Calculator()\n",
        "    print(\"Simple Calculator\")\n",
        "    print(\"Enter +, -, *, or / followed by a number (e.g., +5), 'C' to clear, or 'exit'/'q' to quit.\")\n",
        "\n",
        "    while True:\n",
        "        user_input = input(\"Enter operation: \").strip()\n",
        "        if not calculator.process_input(user_input):\n",
        "            break  # Exit the loop if the process_input returns False\n",
        "\n",
        "if __name__ == \"__main__\":\n",
        "    main()\n"
      ]
    },
    {
      "cell_type": "markdown",
      "source": [
        "GithubLink: https://github.com/EmmanFeBenito/SA1_Number11"
      ],
      "metadata": {
        "id": "s6H0ASrVgNH7"
      }
    }
  ]
}