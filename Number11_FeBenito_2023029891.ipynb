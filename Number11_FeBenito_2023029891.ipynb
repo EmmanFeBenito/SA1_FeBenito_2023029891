{
  "nbformat": 4,
  "nbformat_minor": 0,
  "metadata": {
    "colab": {
      "provenance": []
    },
    "kernelspec": {
      "name": "python3",
      "display_name": "Python 3"
    },
    "language_info": {
      "name": "python"
    }
  },
  "cells": [
    {
      "cell_type": "code",
      "execution_count": null,
      "metadata": {
        "colab": {
          "base_uri": "https://localhost:8080/"
        },
        "id": "7tH1f0RFBXnF",
        "outputId": "7d45a100-e871-46ae-8f2d-05fcf3a90f82"
      },
      "outputs": [
        {
          "output_type": "stream",
          "name": "stdout",
          "text": [
            "Calculator reset. Screen: 0\n",
            "Simple Calculator\n",
            "Enter +, -, *, or / followed by a number (e.g., +5), or 'C' to clear.\n",
            "Enter operation: +5\n",
            "Screen: 5.0\n",
            "Enter operation: +2\n",
            "Screen: 7.0\n",
            "Enter operation: -3\n",
            "Screen: 4.0\n",
            "Enter operation: *6\n",
            "Screen: 24.0\n",
            "Enter operation: /8\n",
            "Screen: 3.0\n",
            "Enter operation: C\n",
            "Calculator reset. Screen: 0\n"
          ]
        }
      ],
      "source": [
        "class Calculator:\n",
        "    def __init__(self):\n",
        "        self.current_value = 0\n",
        "        self.reset()\n",
        "\n",
        "    def reset(self):\n",
        "        self.current_value = 0\n",
        "        print(\"Calculator reset. Screen: 0\")\n",
        "\n",
        "    def add(self, value):\n",
        "        self.current_value += value\n",
        "        print(f\"Screen: {self.current_value}\")\n",
        "\n",
        "    def subtract(self, value):\n",
        "        self.current_value -= value\n",
        "        print(f\"Screen: {self.current_value}\")\n",
        "\n",
        "    def multiply(self, value):\n",
        "        self.current_value *= value\n",
        "        print(f\"Screen: {self.current_value}\")\n",
        "\n",
        "    def divide(self, value):\n",
        "        if value == 0:\n",
        "            print(\"Error: Division by zero is undefined.\")\n",
        "        else:\n",
        "            self.current_value /= value\n",
        "            print(f\"Screen: {self.current_value}\")\n",
        "\n",
        "    def process_input(self, input_str):\n",
        "        try:\n",
        "            if input_str == \"C\":\n",
        "                self.reset()\n",
        "            elif input_str.startswith(\"+\"):\n",
        "                self.add(float(input_str[1:]))\n",
        "            elif input_str.startswith(\"-\"):\n",
        "                self.subtract(float(input_str[1:]))\n",
        "            elif input_str.startswith(\"*\"):\n",
        "                self.multiply(float(input_str[1:]))\n",
        "            elif input_str.startswith(\"/\"):\n",
        "                self.divide(float(input_str[1:]))\n",
        "            else:\n",
        "                print(\"Invalid input\")\n",
        "        except ValueError:\n",
        "            print(\"Invalid number entered\")\n",
        "\n",
        "def main():\n",
        "    calculator = Calculator()\n",
        "    print(\"Simple Calculator\")\n",
        "    print(\"Enter +, -, *, or / followed by a number (e.g., +5), or 'C' to clear.\")\n",
        "\n",
        "    while True:\n",
        "        user_input = input(\"Enter operation: \").strip()\n",
        "        calculator.process_input(user_input)\n",
        "\n",
        "if __name__ == \"__main__\":\n",
        "    main()\n"
      ]
    }
  ]
}