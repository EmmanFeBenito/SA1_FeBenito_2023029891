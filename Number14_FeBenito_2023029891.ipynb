{
  "nbformat": 4,
  "nbformat_minor": 0,
  "metadata": {
    "colab": {
      "provenance": []
    },
    "kernelspec": {
      "name": "python3",
      "display_name": "Python 3"
    },
    "language_info": {
      "name": "python"
    }
  },
  "cells": [
    {
      "cell_type": "code",
      "execution_count": 9,
      "metadata": {
        "colab": {
          "base_uri": "https://localhost:8080/"
        },
        "id": "39f21C4C6BEn",
        "outputId": "bd96b6db-9a33-43e7-b7d0-d7ee33ed8003"
      },
      "outputs": [
        {
          "output_type": "stream",
          "name": "stdout",
          "text": [
            "The two distinct integers in S that sum to 10 are: 1 and 9.\n",
            "Execution time: 0.000008 seconds\n"
          ]
        }
      ],
      "source": [
        "import time\n",
        "\n",
        "def find_pair(S, k, i, j):\n",
        "    if i >= len(S) - 1:\n",
        "        return None\n",
        "\n",
        "    if j >= len(S):\n",
        "        return find_pair(S, k, i + 1, i + 2)\n",
        "\n",
        "    current_sum = S[i] + S[j]\n",
        "\n",
        "    if current_sum == k:\n",
        "        return (S[i], S[j])\n",
        "    else:\n",
        "        return find_pair(S, k, i, j + 1)\n",
        "\n",
        "def two_sum(S, k):\n",
        "    return find_pair(S, k, 0, 1)\n",
        "\n",
        "if __name__ == \"__main__\":\n",
        "    S = [1, 2, 3, 4, 5, 6, 7, 8, 9]\n",
        "    k = 10\n",
        "\n",
        "    start_time = time.time()\n",
        "\n",
        "    result = two_sum(S, k)\n",
        "\n",
        "    end_time = time.time()\n",
        "    execution_time = end_time - start_time\n",
        "\n",
        "    if result:\n",
        "        print(f\"The two distinct integers in S that sum to {k} are: {result[0]} and {result[1]}.\")\n",
        "    else:\n",
        "        print(f\"There are no two distinct integers in S that sum to {k}.\")\n",
        "\n",
        "    print(f\"Execution time: {execution_time:.6f} seconds\")\n"
      ]
    },
    {
      "cell_type": "markdown",
      "source": [
        "Github Link: https://github.com/EmmanFeBenito/SA1_FeBenito_2023029891"
      ],
      "metadata": {
        "id": "Zh1OZb-_6-NC"
      }
    },
    {
      "cell_type": "code",
      "source": [],
      "metadata": {
        "id": "LSh8SlxO7E8h"
      },
      "execution_count": null,
      "outputs": []
    }
  ]
}